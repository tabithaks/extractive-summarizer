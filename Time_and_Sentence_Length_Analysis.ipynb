{
 "cells": [
  {
   "cell_type": "markdown",
   "metadata": {},
   "source": [
    "## Answers to questions\n",
    "\n",
    "a) Approach to the problem Summaries describe the main ideas in a text, and I approached the problem with the objective of finding sentences that best cover the main topics discussed in each speech. With that in mind, for each speech, topic analysis (latent dirchlet allocation) was used to determine what the main topics were. The most discussed topics (based on the number of sentences a topic came up in) were then selected, and the sentence with the highest probability for each of these topics found. These sentence were extracted, ordered based on their when they came up in the orginal text, and put together as a summary.\n",
    "\n",
    "b) Measuring performance. Below are possible ways to evaluate performance in this problem. Without extensive resources, I would start with the qualitative approach (perhaps developing a rubric for consistency) on a very small number of randomly selected text. Then I would then use the transfer approach in order to have a metric to compare this summarization method to others.\n",
    "\n",
    "- Qualitative approach: an individual comparing output to actual text on a small subset of the data\n",
    "- Resource intensive: if resources are available have people create ground truth summaries and combine the BLEU and ROUGE metrics to create an F1 metric representative of the lexicon overlap between automatically generated summaries and the ground truth created by people\n",
    "- Transfer approach: evalute the summarization method on a different dataset of texts that already have ground truth summaries using the BLEU and ROUGE metrics. Use this evaluation as a proxy for performance on the UN General Assembly Statements summary problem."
   ]
  },
  {
   "cell_type": "code",
   "execution_count": 1,
   "metadata": {},
   "outputs": [],
   "source": [
    "import summarize\n",
    "import pandas as pd\n",
    "import time\n",
    "%load_ext autoreload\n",
    "%autoreload 2"
   ]
  },
  {
   "cell_type": "markdown",
   "metadata": {},
   "source": [
    "#### Get Data"
   ]
  },
  {
   "cell_type": "code",
   "execution_count": 2,
   "metadata": {},
   "outputs": [
    {
     "name": "stdout",
     "output_type": "stream",
     "text": [
      "<class 'pandas.core.frame.DataFrame'>\n",
      "RangeIndex: 7507 entries, 0 to 7506\n",
      "Data columns (total 4 columns):\n",
      " #   Column   Non-Null Count  Dtype \n",
      "---  ------   --------------  ----- \n",
      " 0   session  7507 non-null   int64 \n",
      " 1   year     7507 non-null   int64 \n",
      " 2   country  7507 non-null   object\n",
      " 3   text     7507 non-null   object\n",
      "dtypes: int64(2), object(2)\n",
      "memory usage: 234.7+ KB\n",
      "None\n"
     ]
    },
    {
     "data": {
      "text/html": [
       "<div>\n",
       "<style scoped>\n",
       "    .dataframe tbody tr th:only-of-type {\n",
       "        vertical-align: middle;\n",
       "    }\n",
       "\n",
       "    .dataframe tbody tr th {\n",
       "        vertical-align: top;\n",
       "    }\n",
       "\n",
       "    .dataframe thead th {\n",
       "        text-align: right;\n",
       "    }\n",
       "</style>\n",
       "<table border=\"1\" class=\"dataframe\">\n",
       "  <thead>\n",
       "    <tr style=\"text-align: right;\">\n",
       "      <th></th>\n",
       "      <th>session</th>\n",
       "      <th>year</th>\n",
       "      <th>country</th>\n",
       "      <th>text</th>\n",
       "    </tr>\n",
       "  </thead>\n",
       "  <tbody>\n",
       "    <tr>\n",
       "      <th>0</th>\n",
       "      <td>44</td>\n",
       "      <td>1989</td>\n",
       "      <td>MDV</td>\n",
       "      <td>﻿It is indeed a pleasure for me and the member...</td>\n",
       "    </tr>\n",
       "    <tr>\n",
       "      <th>1</th>\n",
       "      <td>44</td>\n",
       "      <td>1989</td>\n",
       "      <td>FIN</td>\n",
       "      <td>﻿\\nMay I begin by congratulating you. Sir, on ...</td>\n",
       "    </tr>\n",
       "    <tr>\n",
       "      <th>2</th>\n",
       "      <td>44</td>\n",
       "      <td>1989</td>\n",
       "      <td>NER</td>\n",
       "      <td>﻿\\nMr. President, it is a particular pleasure ...</td>\n",
       "    </tr>\n",
       "    <tr>\n",
       "      <th>3</th>\n",
       "      <td>44</td>\n",
       "      <td>1989</td>\n",
       "      <td>URY</td>\n",
       "      <td>﻿\\nDuring the debate at the fortieth session o...</td>\n",
       "    </tr>\n",
       "    <tr>\n",
       "      <th>4</th>\n",
       "      <td>44</td>\n",
       "      <td>1989</td>\n",
       "      <td>ZWE</td>\n",
       "      <td>﻿I should like at the outset to express my del...</td>\n",
       "    </tr>\n",
       "  </tbody>\n",
       "</table>\n",
       "</div>"
      ],
      "text/plain": [
       "   session  year country                                               text\n",
       "0       44  1989     MDV  ﻿It is indeed a pleasure for me and the member...\n",
       "1       44  1989     FIN  ﻿\\nMay I begin by congratulating you. Sir, on ...\n",
       "2       44  1989     NER  ﻿\\nMr. President, it is a particular pleasure ...\n",
       "3       44  1989     URY  ﻿\\nDuring the debate at the fortieth session o...\n",
       "4       44  1989     ZWE  ﻿I should like at the outset to express my del..."
      ]
     },
     "metadata": {},
     "output_type": "display_data"
    }
   ],
   "source": [
    "speeches = pd.read_csv(\"../un-general-debates.csv\")\n",
    "print(debates.info())\n",
    "display(debates.head())"
   ]
  },
  {
   "cell_type": "markdown",
   "metadata": {},
   "source": [
    "#### Summarize first 10 debates:"
   ]
  },
  {
   "cell_type": "code",
   "execution_count": 3,
   "metadata": {},
   "outputs": [],
   "source": [
    "ten_debates = speeches[:10].copy()"
   ]
  },
  {
   "cell_type": "code",
   "execution_count": 4,
   "metadata": {},
   "outputs": [],
   "source": [
    "start = time.time()\n",
    "ten_debates[\"summary\"] = ten_debates[\"text\"].apply(lambda x: summarize.summarize_pd(x))\n",
    "end = time.time()\n",
    "long_sent_time = end-start"
   ]
  },
  {
   "cell_type": "code",
   "execution_count": 5,
   "metadata": {},
   "outputs": [
    {
     "name": "stdout",
     "output_type": "stream",
     "text": [
      "Total time: 8.982362031936646 seconds\n"
     ]
    }
   ],
   "source": [
    "print(\"Total time:\", long_sent_time, \"seconds\")"
   ]
  },
  {
   "cell_type": "markdown",
   "metadata": {},
   "source": [
    "#### Summarize first 10 debates, penalize sentence length"
   ]
  },
  {
   "cell_type": "code",
   "execution_count": 6,
   "metadata": {
    "scrolled": true
   },
   "outputs": [
    {
     "data": {
      "text/plain": [
       "0                                                                                                                                                                                                                                                                                                                                                                                                                                                                                                                                                                                                                                                                                                                                                                                                                                                                                                                                                                                                                                                                                                As in previous years, my delegation wishes to note its satisfaction with and gratitude for the assiduous and unrelenting efforts exerted by the Secretary-General of the United Nations in the cause of peace and international harmony. Developments in southern Africa, and more particularly in Namibia with regard to the implementation of the United Nations independence plan, are welcome signals of hope, but amidst the hopes there are still dark reminders of the precariousness of global political reconciliation. The link between economic development and the environment has recently been recognized and it is encouraging to note the high profile given to environmental issues at the Paris summit meeting of the Group of Seven in July this year, in this regard, it is of particular interest that there is an increasing awareness and acceptance of the fact that certain technologies have a deleterious effect on the environment. The transition that many of the world's conflict, are making towards negotiations and understanding owes a great deal to improved relations between the super-Powers, which were themselves in part inspired by the historic arms reduction agreement of December 1987 for this reason -at Maldives has always supported all efforts with a view to general and complete disarmament, including the total elimination of chemical and bacteriological weapons and reduction in conventional armaments. The situation is aggravated by their falling share in international trade, by persistent negative trends in the terms of trade, owing to protectionism, and by the upsurge in unilateralism and other practices that jeopardize the multilateral nature of trade.\n",
       "1                                                                                                                                                                                                                                                                                                                                                                                                                                                                                                                                                                                                                                                                                                                                                                                                                                                                                                                                                                                                                                                                                                                                                                                                                                                                                                                                                                                                                                                                                                                                                                                                                                In the process of preparing both the development strategy and the special session emphasis should be on the development of human resources in all forms, including the recognition of a well-functioning private sector in balance with an effective public sector. To reach that goal, determined population policies, translated into national population plans as spelled out in the World Population Plan of Action, should be pursued vigorously. Since concern for the environment is global, this concern should in our opinion give a further incentive to all States without exception to involve themselves\\nactively in international co-operation for environmentally sound and sustainable development. In co-operation with the other Nordic countries, Finland has this year taken steps to share with other interested States its experiences concerning the training and preparation of national contingents for peace-keeping tasks. In this connection, I wish to emphasize the importance of finding a lasting solution to the financial difficulties that still affect current peace-keeping operations, thus indirectly undermining the financial basis of the whole Organization.\n",
       "2    It is certainly frustrating to note the state of the world today and to see that today we have a striking if not repugnant paradox on the one hand there is the exponential increase in military budgets, and arsenals and on the other there is the chronic poverty and wretchedness of many in the world We must give full weight to the Action Programme adopted by the International Conference on the Relationship between Disarmament and Development, which provides for the creation of institutional financial mechanisms to facilitate the transfer of resources saved through disarmament measures to economic and social development activities. We call on it firmly to support the Gbadolite agreements of 22 June last and all the efforts to restore peace in Angola, and to encourage similar initiatives for national reconciliation and the restoration of peace in Mozambique,\\nA local conflict that has just exploded on our continent is causing us great concern and sadness, for it concerns two fraternal countries that are dear to us two countries that should stand united and cleave to one another; two countries members of the organization for the Development of the Senegal River, the Permanent Inter-State Committee on Drought Control in the Sahel, the West African Economic Community, the Economic Community of West African States, the OAU, the organization of the Islamic Conference and the Movement of Non-Aligned Countries. We therefore take this opportunity to renew our appeal to Senegal and Mauritania to refrain from any action that could increase tension, and to co-operate fully with the African mediation commission in its efforts to restore as soon as possible between the two peoples the understanding, harmony, fraternity, solidarity and common destiny to which geography, history and the Islamic faith destine - I was about to say doom - them. They include the total and unconditional withdrawal of Israel from all the occupied Arab territories, including Jerusalem, the strict implementation in that connection of Security Council resolutions 242 (1967) and 338 (1973), and the convoking under United Nations auspices of the International Peace Conference on the Middle East with the participation of the permanent members of the Security Council and, on an equal footing, of all the parties concerned, including the Palestine Liberation Organization (PLO). Whatever the case, it is urgently necessary that particular attention be given to the most vulnerable countries: the least developed countries, countries affected by drought and desertification, countries suffering from natural scourges and countries suffering from being land-locked, for whom a revival of economic and social development is a necessity.\n",
       "3                                                                                                                                                                                                                                                                                                                                                                                                                                                                                                                                                                                                                                                                                                                          ﻿\\nDuring the debate at the fortieth session of the General Assembly four years ago, President Sanguinetti announced to the world community from this very rostrum that Uruguay had resumed its traditional path of political democracy, and was determined to respect and to enforce respect domestically for all human rights as guaranteed by the Constitution of the Republic, and further announced his firm resolve to resume active participation on the global stage of international relations in the pursuit of peace, universal respect for human rights and the equality of all nations, based on respect for national sovereignty and non-intervention in the internal affairs of other States. This new international strategy for development should be dynamic, flexible and, above all, concrete and precise in the formulation of measures designed to fight poverty, to eliminate protectionism and discrimination in international trade, and to facilitate access by all developing countries to technology and to the financial and economic markets of industrialized nations. This new spirit is evident also in the changes introduced by numerous countries in the principles and objectives of their domestic policies, which have led them to greater openness, both internally and externally, thereby strengthening the prospects for international peace and co-operation. The international community knows that the important progress made in the political field will remain precarious while vast sectors of the world's peoples are unable fully to enjoy their human rights. I should like to conclude by expressing our sincere congratulations to Mr. Dante Caputo on his intelligent and effective presidency of the General Assembly at its forty-third session, and also to the Secretary-General, whose dynamism, tact and commitment have strengthened the role of his office within the Organization and have been an essential factor in enhancing its prestige through his successful intervention in the peaceful solution of a number of regional conflicts.\n",
       "4                                                                                                                                                                                                                                                                                                                                                                                                                                                                                                                                                                                                                                                                                                                                                                                                                                                                                                                                                                                                                                                                                                                                                                                                                                                                                                                                         The direction of the world economy is still determined by a small circle of rich and powerful nations for which short-term expediency and the requirements of individual national economies have all too often taken precedence over the steps required for a healthier world economy from which all States would benefit in the long run. For the smaller countries the result has been a collapse in commodity prices causing severe prejudicial terms of trade, where several times the volume and quality of produce is now required to purchase the same amount of manufactured goods from the North than was required only a few years ago. In addition, the necessary borrowing on the part of the developing countries, coupled with high interest rates, has resulted in a debilitating debt-service burden for those countries that has culminated in a net reverse transfer of resources from South to North in the order of nearly $50 billion annually according to the calculations of international financial institutions. It outlines a number of confidence-building measures needed before negotiations can begin and sets out the fundamental human rights that should guide the formulation of a new constitutional dispensation for a future South Africa. From that strong position, the Palestinian leadership should be able to proceed to meaningful negotiations with big Powers, small Powers and others in the region that are seized of the problem of Palestine.\n",
       "5                                                                                                                                                                                                                                                                                                                                                                                                                                                                                                                                                                                                                                                                                                                                                                                                                                                                                                                                                                                                                                                                                                                                   They are poor, I said, because they have inherited an external debt from the dictator - now $30 billion - and in order to service it their country must divert about 20 per cent of its annual budget and send out annually $1.7 billion more than it receives. Yet international debt forgiveness became a reality just about the time the IMF and the World Bank were born, for both these institutions were conceived by the same bold, victorious, visionary leadership that, remembering the stubborn mistake in 1919 at Versailles, forgave in 1947, in London, 70 per cent of the German debt. Let us aid this new flexibility, let us speed its momentum by providing it with global underpinnings, underpinnings which can emanate only from the peaceful processes of the United Nations and the instruments that awaken its talent to create. It could ask the question*, if rich countries have often been ready to underwrite slum clearances, cannot they launch a programme to underwrite power equipment on concessional terms for the development of a slum-cleared economy that in time will develop the capacity to repay these concessional loans? Is not this the moment for the debtors to extend the hand of collaboration to the creditors, in a Commission, as the draft decision puts it, 'of eminent persons from the academic, political and financial sectors with knowledge and experience in international finance, trade and development, to develop innovative approaches and evolve specific proposals related to all types of debt in order to solve the debt problem of developing countries in a manner consistent with their sustained growth and development'?\n",
       "6                                                                                                                                                                                                                                                                                                                                                                                                                                                                                                                                                                                                                                                                                                                                                                                                                                                                                                                                                                                                                                                                                                               It is for this reason that my delegation will submit, at the current session of this Assembly, a draft resolution calling on the international community to demonstrate its solidarity win and support for Operation Life-Line Sudan in its upcoming phase devoted to rehabilitation projects. The international community is required to confront the racist regime and strictly implement its boycott in order to completely isolate it and enable the people of South Africa, under the leadership of its legitimate representatives, the African National Congress of South Africa (ANC) and the Pan Africanist Congress (PAQ , to gain its legitimate rights. We call upon the two countries to confirm their peaceful intentions and respond positively to the efforts of the international community represented by the United Nations, and to work constructively to resolve the complications of the war and settle the conflict comprehensively and conclusively by peaceful means within the framework, and through full implementation, of Security Council resolution 598 (1987). The Sudan recognizes the encouraging initiatives of some creditor countries and dreams that efforts in this sphere are not enough; they must be supplemented by effective steps to accelerate financial flows into the developing countries to support their national developmental efforts and expand their economic capacity. The progressive drop in the international prices of primary commodities is of grave concern to the developing countries, and we hope that the establishment, last June, of the Common Fund for Commodities will contribute to improving the present state of trade in primary commodities.\n",
       "7                                                                                                                                                                                                                                                                                                                                                                                                                                                                                                                                                                                                                                                                                                                                                                                                                                                                                                                                                                                                                                                                                                                                                                                                                                                                                                                                                                                                In our view, by the time the summit meeting is held next year, in late spring or early summer, we may have passed the last turn on the road towards a treaty reducing strategic offensive arms. In addition to the problems of security, the Soviet-United States agenda encompasses issues of humanitarian cooperation, regional topics and joint efforts in the fields of the environment and economic development, reflecting the process that brings together national and universal concerns. In parallel talks between the countries participating in the European process to develop a qualitatively new generation of confidence- and security-building measures the Warsaw Treaty member countries have proposed a far-reaching approach calling for a comprehensive set of such measures, and extending them to air force and naval activities. Barriers could be erected which, first, would preclude the proliferation of combat missiles and associated technology across the globe, and, secondly, would not impinge on the legitimate interest of countries in gaining peaceful access to outer space. While participating in implementing conservation strategies, the Soviet Union has programmes for speeding up the integration of its economy, on an equal and mutually beneficial basis, into the world economy, the modern international division of labour and international exchanges in science and technology.\n",
       "8                                                                                                                                                                                                                                                                                                                                                                                                                                                                                                                                                                                                                                                                                                                                                                                                                                                                                                                                                                                                                                                                                                                                                                                                                                                                                during the transitional period from the withdrawal of Vietnamese forces to the holding of a general election in Cambodia, the only way to ensure peace and forestall a dangerous situation in the country is to set up a provisional coalition Government headed by Prince Sihanouk and composed of the four parties in Cambodia. The international community expects the United States and the Soviet Union to shoulder their special responsibility for disarmament by taking the lead in drastically reducing their nuclear arsenals and conventional armaments and by stopping their arms race in all forms, including that in outer space. On the one hand, there are vast numbers of countries in the world with quite different social systems, ideologies, values, historical backgrounds, cultural traditions and religious beliefs, and on the other hand, their interests predetermine the need for contacts with one another. Consequently, all countries are required to adopt a realistic attitude by recognising the diversity of the world, refraining from interfering in each other's internal affairs, and observing in their contacts the mutually accepted norms governing international relations. We note with pleasure that, as the most influential international organization, the United Nations has in recent years had some outstanding achievements in facilitating the political settlement of regional conflicts, maintaining world peace, and promoting international co-operation and economic and social development.\n",
       "9                                                                                                                                                                                                                                                                                                                                                                                                                                                                                                                                                                                                                                                                                                                                                                                                                                                                                                                                                                                                                   Ideological intransigence, confrontation as a means of diplomacy and indifference to the overwhelming economic, social and political problems of a significant part of mankind have started to give way in the face of mankind's growing aspirations to broaden the scope of coexistence, to lay the foundations of true peace and to consolidate the notion that the individual is the direct and primary beneficiary of all government action. I refer, for example, to issues such as the differences between rich and poor countries, economic development, man's relationship with nature and the progressive deterioration of the environment, and phenomena such as terrorism and drug trafficking - to which I shall refer later in my statement. The growing political realism of many countries which in the past were reluctant to accept solutions that were not extreme; the progress towards more pragmatism in the Movement of Non-Aligned Countries; the resolute action of the Security Council reinforced by the new co-operation among its permanent members; and the intelligent work of the Secretary-General are basic elements of that stimulating process. Efforts must continue in pursuit of a settlement allowing for the establishment of a broadly based Government of national reconciliation that will enable the country to face its future reconstruction with optimism, with no possibility of a return to a recent past which inflicted so much suffering on the Cambodian people. We must support, and are doing so, the various financial initiatives that have been advanced by various international organs, at the same time reinforcing the policy of co-operation with the African continent by giving significant economic stimulus for co-operation with those countries.\n",
       "Name: summary, dtype: object"
      ]
     },
     "execution_count": 6,
     "metadata": {},
     "output_type": "execute_result"
    }
   ],
   "source": [
    "pd.set_option('display.max_colwidth', None)\n",
    "ten_debates[\"summary\"]"
   ]
  },
  {
   "cell_type": "code",
   "execution_count": 7,
   "metadata": {},
   "outputs": [],
   "source": [
    "start = time.time()\n",
    "ten_debates[\"summary_short_sentence\"] = ten_debates[\"text\"].apply(lambda x: summarize.summarize_pd(x,sent_len_penalty=True))\n",
    "end = time.time()\n",
    "short_len_time = end-start"
   ]
  },
  {
   "cell_type": "code",
   "execution_count": 8,
   "metadata": {},
   "outputs": [
    {
     "name": "stdout",
     "output_type": "stream",
     "text": [
      "Total time: 7.034054279327393 seconds\n"
     ]
    }
   ],
   "source": [
    "print(\"Total time:\", short_len_time , \"seconds\")"
   ]
  },
  {
   "cell_type": "code",
   "execution_count": 9,
   "metadata": {},
   "outputs": [
    {
     "data": {
      "text/plain": [
       "0                                                                                                                                                 Aid flows continue to be inadequate. The situation in Lebanon remains volatile. The good office of the UN could be utilized in these peace negotiations. Another issue that needs our attention is the situation in Cyprus. We in the Maldives were close to becoming the victim of such a dastardly attempt last November.\n",
       "1                                                                                                                                                                                                                                          ﻿\\nMay I begin by congratulating you. We hope that lessons have been learned. We can therefore all learn from each other. The cycle of violence has not been broken. Yet the world Organization and its member States can do more.\n",
       "2                                                                                              Can we remain powerless and inactive in the face of that unacceptable situation? In regard to Cyprus we are pleased with the efforts made by the Secretary-General through his Special Representative. Last year. This applies also to the Second United Nations Conference on the Least Developed Countries, to be held in Paris in 1990. I refer to the problem of children.\n",
       "3                                                                                                                                                                                                                                                                                                                                                                                                                                                         ... ... ... ... ...\n",
       "4                                                                                                                               Conscience, however, enjoins us to submit that these rights are not enough. The more observers, the more guests, the more people we can have in that country, the better. We welcome the effort being made by many States around the globe. That is the reality of the situation in South Africa itself. We hope these efforts will continue.\n",
       "5                                                                                                                                                                                                                                                                                                                                                                                                                                (ibid.). (ibid.). (ibid.). (ibid.). (ibid.).\n",
       "6    These have already commenced and we hope they will be pursued until lasting peace, national unity and stability prevail in our country. The will of the Palestinian people will not be sapped by Israeli occupation. Some of the repressive and discriminatory laws are still in force, for instance the AG-8. We call on the Security Council to fully assume its responsibilities as stated in its resolutions 435 (1978) and 640 (1989). Apartheid is still in place.\n",
       "7                                                                                                                                                                                                                       It is to be deplored that. This is the question of questions. Because there are those who want to maintain their superiority at any cost. We reaffirm here the position of the Soviet Union. There is only one way out of those fateful correlations.\n",
       "8                     The Government of Mozambique is working hard to end the unrest in its country. The Treaty between the United States and the Union of Soviet Socialist Republics on the Elimination of Intermediate-Range and Shorter-Range Missiles - the INF Treaty - is being implemented. With the start last March in Vienna of. Has China encroached upon their interests in any way? Protecting the environment has become a pressing issue of universal concern?\n",
       "9                                                                                                                                                                                                                                      Our will is clear. We are pleased that it is receiving the necessary backing from the Security Council. We must activate this process. We therefore ask for its co-operation. In contusion, I should like to make a brief observation.\n",
       "Name: summary_short_sentence, dtype: object"
      ]
     },
     "execution_count": 9,
     "metadata": {},
     "output_type": "execute_result"
    }
   ],
   "source": [
    "ten_debates[\"summary_short_sentence\"]"
   ]
  },
  {
   "cell_type": "markdown",
   "metadata": {},
   "source": [
    "#### Conclusion\n",
    "\n",
    "1. Sentence length penalty: The summaries generated without sententence length penalty were more coherent and complete. Stronger preprocesssing to remove odd punctuation, etc. would improve the shorter summaries, but it's also clear that as it is the penalty is too strong, and shorter sentences get chosen even when they contain very little information.\n",
    "2. Time: Summarization on a local system is feasible."
   ]
  },
  {
   "cell_type": "code",
   "execution_count": 10,
   "metadata": {},
   "outputs": [
    {
     "name": "stdout",
     "output_type": "stream",
     "text": [
      "It will take about 112.384319622914 minutes to summarize all debates.\n"
     ]
    }
   ],
   "source": [
    "estimated_time = ((len(debates)/10) * long_sent_time)/60\n",
    "print(\"It will take about\", estimated_time, \"minutes to summarize all debates.\")"
   ]
  },
  {
   "cell_type": "code",
   "execution_count": null,
   "metadata": {},
   "outputs": [],
   "source": []
  }
 ],
 "metadata": {
  "kernelspec": {
   "display_name": "Python 3",
   "language": "python",
   "name": "python3"
  },
  "language_info": {
   "codemirror_mode": {
    "name": "ipython",
    "version": 3
   },
   "file_extension": ".py",
   "mimetype": "text/x-python",
   "name": "python",
   "nbconvert_exporter": "python",
   "pygments_lexer": "ipython3",
   "version": "3.7.5"
  }
 },
 "nbformat": 4,
 "nbformat_minor": 4
}
